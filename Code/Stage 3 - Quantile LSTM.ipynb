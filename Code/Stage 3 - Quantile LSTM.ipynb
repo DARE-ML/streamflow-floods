{
 "cells": [
  {
   "cell_type": "markdown",
   "id": "ec923ee5",
   "metadata": {},
   "source": [
    "### Stage- 3 Quantile LSTM Model for All States"
   ]
  },
  {
   "cell_type": "code",
   "execution_count": 18,
   "id": "84dbb03a",
   "metadata": {},
   "outputs": [],
   "source": [
    "# Choose the state you wish to run the quantile lstm model on\n",
    "selected_stations = list(camels_data.summary_data[camels_data.summary_data['state_outlet'] == 'SA'].index)"
   ]
  },
  {
   "cell_type": "code",
   "execution_count": null,
   "id": "1eba357c",
   "metadata": {},
   "outputs": [],
   "source": [
    "combined=[]\n",
    "for i in range(0,30):\n",
    "    print('RUN',i)\n",
    "    results_switch=[]\n",
    "    variable_ts = ['streamflow_MLd_inclInfilled', 'precipitation_deficit', 'year_sin', 'year_cos', 'tmax_AWAP', 'tmin_AWAP']\n",
    "    variable_ts_switch = ['flood_probabilities', 'precipitation_deficit', 'year_sin', 'year_cos', 'tmax_AWAP', 'tmin_AWAP']\n",
    "\n",
    "    variable_static = ['q_mean', 'stream_elas', 'runoff_ratio', 'high_q_freq', 'high_q_dur', 'low_q_freq', 'zero_q_freq']\n",
    "\n",
    "    train_df, test_df = camels_data.get_train_val_test(source=variable_ts, stations=selected_stations)\n",
    "\n",
    "    multi_window = MultiWindow(input_width=5,\n",
    "                               label_width=5,\n",
    "                               shift=5,\n",
    "                               train_df=train_df,\n",
    "                               test_df=test_df,\n",
    "                               stations=selected_stations,\n",
    "                               label_columns=['streamflow_MLd_inclInfilled'])\n",
    "\n",
    "    np_window = MultiNumpyWindow(input_width=5, \n",
    "                                 label_width=5,\n",
    "                                 shift=5,\n",
    "                                 timeseries_source=variable_ts_switch,\n",
    "                                 summary_source=variable_static,\n",
    "                                 summary_data=camels_data.summary_data,\n",
    "                                 stations=selected_stations,\n",
    "                                 label_columns=['flood_probabilities'])\n",
    "\n",
    "    model_switch = Switch_Model(window_switch=np_window, window_regular=multi_window, CONV_WIDTH=5) \n",
    "\n",
    "    for station in selected_stations:\n",
    "                results_switch.append(model_switch.summary(station))\n",
    "    \n",
    "    Switch_SA= pd.DataFrame(results_switch)\n",
    "    Switch_SA= Switch_SA.mean()\n",
    "    Switch_SA= Switch_SA.to_dict()\n",
    "    combined.append(Switch_SA)"
   ]
  },
  {
   "cell_type": "code",
   "execution_count": 23,
   "id": "dc169dbd",
   "metadata": {},
   "outputs": [],
   "source": [
    "Switch_SA_bdlstm = pd.DataFrame(combined)\n",
    "Switch_SA_bdlstm.to_csv('Quantilelstm_SA.csv')"
   ]
  },
  {
   "cell_type": "markdown",
   "id": "5c2d06ed",
   "metadata": {},
   "source": [
    "### Visualizations of Quantile LSTM Model"
   ]
  },
  {
   "cell_type": "code",
   "execution_count": null,
   "id": "bbdecb5f",
   "metadata": {},
   "outputs": [],
   "source": [
    "# Get visualizations of predicted vs actual for quantile lstm model\n",
    "# Enter the station name and the horizons as per need \n",
    "\n",
    "import matplotlib.patches as mpatches\n",
    "fig = plt.figure(figsize=(20,5))\n",
    "plt.title('SA-A5030502', fontsize= 20)\n",
    "plt.ylabel('Flood Probability', fontsize=18)\n",
    "plt.ylim(0, 1.1)\n",
    "\n",
    "plt.rcParams.update({'font.size': 15})\n",
    "\n",
    "df_date= np_window.test_df['A5030502'].reset_index()\n",
    "date_values= df_date['date']\n",
    "\n",
    "s=800\n",
    "e=1600\n",
    "\n",
    "ax1 = plt.plot(date_values[s:e], model_switch.predictions('A5030502')[:,0][s:e], color='blue')\n",
    "ax2 = plt.plot(date_values[s:e], multi_window.test_windows('A5030502')[:,0][s:e], color='red')\n",
    "\n",
    "red_patch = mpatches.Patch(color='red', label='Actual')\n",
    "blue_patch = mpatches.Patch(color='blue', label='Predicted')\n",
    "\n",
    "plt.legend(handles=[red_patch, blue_patch])\n",
    "plt.show()"
   ]
  }
 ],
 "metadata": {
  "kernelspec": {
   "display_name": "Python 3 (ipykernel)",
   "language": "python",
   "name": "python3"
  },
  "language_info": {
   "codemirror_mode": {
    "name": "ipython",
    "version": 3
   },
   "file_extension": ".py",
   "mimetype": "text/x-python",
   "name": "python",
   "nbconvert_exporter": "python",
   "pygments_lexer": "ipython3",
   "version": "3.9.13"
  }
 },
 "nbformat": 4,
 "nbformat_minor": 5
}
