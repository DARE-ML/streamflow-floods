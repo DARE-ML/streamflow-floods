{
 "cells": [
  {
   "cell_type": "markdown",
   "id": "ddf25895",
   "metadata": {},
   "source": [
    "#### Individual LSTM-SA"
   ]
  },
  {
   "cell_type": "code",
   "execution_count": 21,
   "id": "008af8ac",
   "metadata": {},
   "outputs": [],
   "source": [
    "selected_stations = list(camels_data.summary_data[camels_data.summary_data['state_outlet'] == 'SA'].index)"
   ]
  },
  {
   "cell_type": "code",
   "execution_count": null,
   "id": "c112a0fb",
   "metadata": {},
   "outputs": [],
   "source": [
    "# Enter the model you wish to run or multiple as per requirements. The models can be accessed through the following names:\n",
    "#['multi-LSTM', 'multi-linear','multi-CNN', 'multi-Bidirectional-LSTM']\n",
    "\n",
    "combined= []\n",
    "for i in range(0,30):\n",
    "    print('RUN', i)\n",
    "    input_widths = [5]\n",
    "    label_widths = [5]\n",
    "    models = ['multi-LSTM']\n",
    "    variables = [['streamflow_MLd_inclInfilled', 'precipitation_deficit', 'year_sin', 'year_cos', 'tmax_AWAP', 'tmin_AWAP']]\n",
    "\n",
    "    permutations_base = list(itertools.product(*[input_widths, label_widths, selected_stations, models, variables]))\n",
    "\n",
    "    results_baseModels_variables = []\n",
    "    models_baseModels_variables = []\n",
    "    errors_baseModels_variables = []\n",
    "\n",
    "    for input_width, label_width, station, model_name, variable in permutations_base:\n",
    "        if input_width < label_width:\n",
    "            continue\n",
    "\n",
    "        train_df, test_df = camels_data.get_train_val_test(source=variable, stations=selected_stations)\n",
    "\n",
    "        try:\n",
    "            print('input_width:{}, label_width:{}, station:{}, model:{}, variables:{}'.format(input_width, label_width, station, model_name, variable))\n",
    "            now = datetime.now()\n",
    "            current_time = now.strftime(\"%H:%M:%S\")\n",
    "            print(current_time)\n",
    "\n",
    "            window = WindowGenerator(input_width=input_width,\n",
    "                                     label_width=label_width,\n",
    "                                     shift=label_width,\n",
    "                                     train_df=train_df,\n",
    "                                     test_df=test_df,\n",
    "                                     station=station,\n",
    "                                     label_columns=['streamflow_MLd_inclInfilled'])\n",
    "\n",
    "            model = Base_Model(model_name=model_name, window=window, CONV_WIDTH=label_width)\n",
    "\n",
    "            results_baseModels_variables.append(model.summary())\n",
    "\n",
    "            pd.DataFrame(results_baseModels_variables).to_csv('results_files/results_ensemble_all_1.csv')\n",
    "\n",
    "        except:\n",
    "            errors_baseModels_variables.append([input_width, label_width, station, model])\n",
    "\n",
    "    Individual_SA= pd.DataFrame(results_baseModels_variables)\n",
    "    Individual_SA= Individual_SA.mean()\n",
    "    Individual_SA= Individual_SA.to_dict()\n",
    "    combined.append(Individual_SA)"
   ]
  },
  {
   "cell_type": "code",
   "execution_count": 23,
   "id": "09153b98",
   "metadata": {},
   "outputs": [],
   "source": [
    "Individual_SA_lstm = pd.DataFrame(combined)\n",
    "Individual_SA_lstm.to_csv('Individual_SA_lstm.csv')"
   ]
  },
  {
   "cell_type": "markdown",
   "id": "93ec778b",
   "metadata": {},
   "source": [
    "#### Batch-Indicator LSTM- SA "
   ]
  },
  {
   "cell_type": "code",
   "execution_count": 20,
   "id": "917122f5",
   "metadata": {},
   "outputs": [],
   "source": [
    "selected_stations = list(camels_data.summary_data[camels_data.summary_data['state_outlet'] == 'SA'].index)"
   ]
  },
  {
   "cell_type": "code",
   "execution_count": null,
   "id": "df257e70",
   "metadata": {},
   "outputs": [],
   "source": [
    "combined= []\n",
    "for i in range(0,30):\n",
    "    print('RUN',i)\n",
    "    input_widths = [5]\n",
    "    label_widths = [5]\n",
    "    models = ['multi-LSTM']\n",
    "    variables = [['streamflow_MLd_inclInfilled', 'precipitation_deficit', 'year_sin', 'year_cos', 'tmax_AWAP', 'tmin_AWAP']]\n",
    "\n",
    "    permutations_base_batch = list(itertools.product(*[input_widths, label_widths, models, variables]))\n",
    "\n",
    "    results_baseModels_batch = []\n",
    "    errors_baseModels_batch = []\n",
    "\n",
    "    for input_width, label_width, model_name, variable in permutations_base_batch:\n",
    "        try:\n",
    "            if input_width < label_width:\n",
    "                continue\n",
    "\n",
    "            train_df, test_df = camels_data.get_train_val_test(source=variable, stations=selected_stations, discard=0.5)\n",
    "            multi_window = MultiWindow(input_width=input_width,\n",
    "                                       label_width=label_width,\n",
    "                                       shift=label_width,\n",
    "                                       train_df=train_df,\n",
    "                                       test_df=test_df,\n",
    "                                       stations=selected_stations,\n",
    "                                       label_columns=['streamflow_MLd_inclInfilled'])\n",
    "\n",
    "            model = Base_Model(model_name=model_name, window=multi_window, CONV_WIDTH=label_width)\n",
    "\n",
    "            print('input_width:{}, label_width:{}, model:{}, variables:{}'.format(input_width, label_width, model_name, variable))\n",
    "            now = datetime.now()\n",
    "            current_time = now.strftime(\"%H:%M:%S\")\n",
    "            print(current_time)\n",
    "\n",
    "            for station in selected_stations:\n",
    "                results_baseModels_batch.append(model.summary(station=station))\n",
    "\n",
    "            pd.DataFrame(results_baseModels_batch).to_csv('results_files/results_batch_all_1.csv')\n",
    "        except:\n",
    "            errors_baseModels_batch.append([input_width, label_width, model_name]) \n",
    "    Batch_SA= pd.DataFrame(results_baseModels_batch)\n",
    "    Batch_SA= Batch_SA.mean()\n",
    "    Batch_SA= Batch_SA.to_dict()\n",
    "    combined.append(Batch_SA)\n",
    " "
   ]
  },
  {
   "cell_type": "code",
   "execution_count": 25,
   "id": "eae5b308",
   "metadata": {},
   "outputs": [],
   "source": [
    "Batch_SA_LSTM = pd.DataFrame(combined)\n",
    "Batch_SA_LSTM.to_csv('Batch_SA_LSTM.csv')"
   ]
  },
  {
   "cell_type": "markdown",
   "id": "802e49d7",
   "metadata": {},
   "source": [
    "#### Batch-Static LSTM SA"
   ]
  },
  {
   "cell_type": "code",
   "execution_count": 26,
   "id": "4e56e11b",
   "metadata": {},
   "outputs": [],
   "source": [
    "selected_stations = list(camels_data.summary_data[camels_data.summary_data['state_outlet'] == 'SA'].index)"
   ]
  },
  {
   "cell_type": "code",
   "execution_count": null,
   "id": "80705be6",
   "metadata": {},
   "outputs": [],
   "source": [
    "combined=[]\n",
    "for i in range(0,30):\n",
    "    print('RUN', i)\n",
    "    input_widths = [5]\n",
    "    label_widths = [5]\n",
    "    models = ['multi-LSTM']\n",
    "    variables = [['streamflow_MLd_inclInfilled', 'precipitation_deficit', 'year_sin', 'year_cos', 'tmax_AWAP', 'tmin_AWAP', 'q_mean', 'stream_elas', 'runoff_ratio', 'high_q_freq', 'high_q_dur', 'low_q_freq', 'zero_q_freq']]\n",
    "\n",
    "    permutations_base_batch = list(itertools.product(*[input_widths, label_widths, models, variables]))\n",
    "\n",
    "    results_baseModels_batch = []\n",
    "    errors_baseModels_batch = []\n",
    "\n",
    "    for input_width, label_width, model_name, variable in permutations_base_batch:\n",
    "        try:\n",
    "            if input_width < label_width:\n",
    "                continue\n",
    "\n",
    "            train_df, test_df = camels_data.get_train_val_test(source=variable, stations=selected_stations)\n",
    "            multi_window = MultiWindow(input_width=input_width,\n",
    "                                       label_width=label_width,\n",
    "                                       shift=label_width,\n",
    "                                       train_df=train_df,\n",
    "                                       test_df=test_df,\n",
    "                                       stations=selected_stations,\n",
    "                                       label_columns=['streamflow_MLd_inclInfilled'])\n",
    "\n",
    "            model = Base_Model(model_name=model_name, window=multi_window, CONV_WIDTH=label_width)\n",
    "\n",
    "            print('input_width:{}, label_width:{}, model:{}, variables:{}'.format(input_width, label_width, model_name, variable))\n",
    "            now = datetime.now()\n",
    "            current_time = now.strftime(\"%H:%M:%S\")\n",
    "            print(current_time)\n",
    "\n",
    "            for station in selected_stations:\n",
    "                results_baseModels_batch.append(model.summary(station=station))\n",
    "\n",
    "            pd.DataFrame(results_baseModels_batch).to_csv('results_files/results_batch_static_all_1.csv')\n",
    "        except:\n",
    "            errors_baseModels_batch.append([input_width, label_width, model])\n",
    "    Batch_SA= pd.DataFrame(results_baseModels_batch)\n",
    "    Batch_SA= Batch_SA.mean()\n",
    "    Batch_SA= Batch_SA.to_dict()\n",
    "    combined.append(Batch_SA)"
   ]
  },
  {
   "cell_type": "code",
   "execution_count": 30,
   "id": "bd8817ad",
   "metadata": {},
   "outputs": [],
   "source": [
    "Batchstatic_SA_LSTM = pd.DataFrame(combined)\n",
    "Batchstatic_SA_LSTM.to_csv('BatchStatic_SA_LSTM.csv')"
   ]
  },
  {
   "cell_type": "markdown",
   "id": "9968655a",
   "metadata": {},
   "source": [
    "#### Ensemble Model LSTM- SA"
   ]
  },
  {
   "cell_type": "code",
   "execution_count": 23,
   "id": "f20ae1dc",
   "metadata": {},
   "outputs": [],
   "source": [
    "selected_stations = list(camels_data.summary_data[camels_data.summary_data['state_outlet'] == 'SA'].index)"
   ]
  },
  {
   "cell_type": "code",
   "execution_count": 24,
   "id": "973f0b16",
   "metadata": {},
   "outputs": [
    {
     "data": {
      "text/plain": [
       "9"
      ]
     },
     "execution_count": 24,
     "metadata": {},
     "output_type": "execute_result"
    }
   ],
   "source": [
    "len(selected_stations)"
   ]
  },
  {
   "cell_type": "code",
   "execution_count": null,
   "id": "ad272cb8",
   "metadata": {},
   "outputs": [],
   "source": [
    "combined=[]\n",
    "for i in range(0,30):\n",
    "    print('RUN:', i)\n",
    "    results_ensemble = []\n",
    "    input_widths = [5]\n",
    "    label_widths = [5]\n",
    "\n",
    "    permutations_ensemble = list(itertools.product(*[input_widths, label_widths]))\n",
    "\n",
    "    for input_width, label_width in permutations_ensemble:\n",
    "        np_window = MultiNumpyWindow(input_width=input_width, \n",
    "                                     label_width=label_width,\n",
    "                                     shift=label_width,\n",
    "                                     timeseries_source=['streamflow_MLd_inclInfilled', 'precipitation_deficit', 'year_sin', 'year_cos', 'tmax_AWAP', 'tmin_AWAP'],\n",
    "                                     summary_source=['q_mean', 'stream_elas', 'runoff_ratio', 'high_q_freq', 'high_q_dur', 'low_q_freq', 'zero_q_freq'],\n",
    "                                     summary_data=camels_data.summary_data,\n",
    "                                     stations=selected_stations,\n",
    "                                     label_columns=['streamflow_MLd_inclInfilled'])\n",
    "\n",
    "        ensemble_model = Ensemble_Static(np_window)\n",
    "        ensemble_model.train()\n",
    "        print('done')\n",
    "\n",
    "        for station in selected_stations:\n",
    "            results_ensemble.append(ensemble_model.summary(station))\n",
    "                \n",
    "    Ensemble_SA= pd.DataFrame(results_ensemble)\n",
    "    Ensemble_SA= Ensemble_SA.mean()\n",
    "    Ensemble_SA= Ensemble_SA.to_dict()\n",
    "    combined.append(Ensemble_SA)"
   ]
  },
  {
   "cell_type": "code",
   "execution_count": 28,
   "id": "62be2987",
   "metadata": {},
   "outputs": [],
   "source": [
    "Ensemble_SA_LSTM = pd.DataFrame(combined)\n",
    "Ensemble_SA_LSTM.to_csv('Ensemble_SA_LSTM.csv')"
   ]
  }
 ],
 "metadata": {
  "kernelspec": {
   "display_name": "Python 3 (ipykernel)",
   "language": "python",
   "name": "python3"
  },
  "language_info": {
   "codemirror_mode": {
    "name": "ipython",
    "version": 3
   },
   "file_extension": ".py",
   "mimetype": "text/x-python",
   "name": "python",
   "nbconvert_exporter": "python",
   "pygments_lexer": "ipython3",
   "version": "3.9.13"
  }
 },
 "nbformat": 4,
 "nbformat_minor": 5
}
