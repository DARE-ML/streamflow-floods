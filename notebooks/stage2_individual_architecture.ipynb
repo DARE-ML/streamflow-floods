{
 "cells": [
  {
   "cell_type": "code",
   "execution_count": 21,
   "id": "008af8ac",
   "metadata": {},
   "outputs": [],
   "source": [
    "selected_stations = list(camels_data.summary_data[camels_data.summary_data['state_outlet'] == 'SA'].index)"
   ]
  },
  {
   "cell_type": "code",
   "execution_count": null,
   "id": "c112a0fb",
   "metadata": {},
   "outputs": [],
   "source": [
    "# Enter the model you wish to run or multiple as per requirements. The models can be accessed through the following names:\n",
    "#['multi-LSTM', 'multi-linear','multi-CNN', 'multi-Bidirectional-LSTM']\n",
    "\n",
    "combined= []\n",
    "for i in range(0,30):\n",
    "    print('RUN', i)\n",
    "    input_widths = [5]\n",
    "    label_widths = [5]\n",
    "    models = ['multi-LSTM']\n",
    "    variables = [['streamflow_MLd_inclInfilled', 'precipitation_deficit', 'year_sin', 'year_cos', 'tmax_AWAP', 'tmin_AWAP']]\n",
    "\n",
    "    permutations_base = list(itertools.product(*[input_widths, label_widths, selected_stations, models, variables]))\n",
    "\n",
    "    results_baseModels_variables = []\n",
    "    models_baseModels_variables = []\n",
    "    errors_baseModels_variables = []\n",
    "\n",
    "    for input_width, label_width, station, model_name, variable in permutations_base:\n",
    "        if input_width < label_width:\n",
    "            continue\n",
    "\n",
    "        train_df, test_df = camels_data.get_train_val_test(source=variable, stations=selected_stations)\n",
    "\n",
    "        try:\n",
    "            print('input_width:{}, label_width:{}, station:{}, model:{}, variables:{}'.format(input_width, label_width, station, model_name, variable))\n",
    "            now = datetime.now()\n",
    "            current_time = now.strftime(\"%H:%M:%S\")\n",
    "            print(current_time)\n",
    "\n",
    "            window = WindowGenerator(input_width=input_width,\n",
    "                                     label_width=label_width,\n",
    "                                     shift=label_width,\n",
    "                                     train_df=train_df,\n",
    "                                     test_df=test_df,\n",
    "                                     station=station,\n",
    "                                     label_columns=['streamflow_MLd_inclInfilled'])\n",
    "\n",
    "            model = Base_Model(model_name=model_name, window=window, CONV_WIDTH=label_width)\n",
    "\n",
    "            results_baseModels_variables.append(model.summary())\n",
    "\n",
    "            pd.DataFrame(results_baseModels_variables).to_csv('results_files/results_ensemble_all_1.csv')\n",
    "\n",
    "        except:\n",
    "            errors_baseModels_variables.append([input_width, label_width, station, model])\n",
    "\n",
    "    Individual_SA= pd.DataFrame(results_baseModels_variables)\n",
    "    Individual_SA= Individual_SA.mean()\n",
    "    Individual_SA= Individual_SA.to_dict()\n",
    "    combined.append(Individual_SA)"
   ]
  },
  {
   "cell_type": "code",
   "execution_count": 23,
   "id": "09153b98",
   "metadata": {},
   "outputs": [],
   "source": [
    "Individual_SA_lstm = pd.DataFrame(combined)\n",
    "Individual_SA_lstm.to_csv('Individual_SA_lstm.csv')"
   ]
  }
 ],
 "metadata": {
  "kernelspec": {
   "display_name": "Python 3 (ipykernel)",
   "language": "python",
   "name": "python3"
  },
  "language_info": {
   "codemirror_mode": {
    "name": "ipython",
    "version": 3
   },
   "file_extension": ".py",
   "mimetype": "text/x-python",
   "name": "python",
   "nbconvert_exporter": "python",
   "pygments_lexer": "ipython3",
   "version": "3.9.13"
  }
 },
 "nbformat": 4,
 "nbformat_minor": 5
}
