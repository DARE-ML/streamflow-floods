{
 "cells": [
  {
   "cell_type": "code",
   "execution_count": 17,
   "id": "66324381",
   "metadata": {},
   "outputs": [],
   "source": [
    "cd_sd = camels_data.summary_data.loc[:,~camels_data.summary_data.columns.duplicated()]"
   ]
  },
  {
   "cell_type": "code",
   "execution_count": 18,
   "id": "f5a497d4",
   "metadata": {},
   "outputs": [],
   "source": [
    "import geopandas as gpd\n",
    "import pandas as pd\n",
    "import numpy as np\n",
    "import matplotlib.pyplot as plt\n",
    "import seaborn as sns\n",
    "\n",
    "# Define the list of cities and their latitudes/longitudes\n",
    "cities = cd_sd['station_name']\n",
    "lats = cd_sd['lat_outlet']\n",
    "longs = cd_sd['long_outlet']\n",
    "\n",
    "# Generate a random priority for each city between 1 and 5\n",
    "priority = np.random.randint(1, 6, size=len(cities))\n",
    "state= cd_sd['state_outlet']\n",
    "\n",
    "# Create the DataFrame with the city data\n",
    "data = {'cityname': cities,\n",
    "        'lats': lats,\n",
    "        'longs': longs,\n",
    "        'States': state,\n",
    "        'priority': priority\n",
    "        }\n",
    "\n",
    "df = pd.DataFrame(data)"
   ]
  },
  {
   "cell_type": "code",
   "execution_count": 19,
   "id": "0b64dcf8",
   "metadata": {},
   "outputs": [],
   "source": [
    "state_mapping = {'QLD': 1, 'NSW': 2, 'SA': 3, 'VIC': 4, 'ACT': 5, 'WA': 6, 'NT': 7, 'TAS': 8}\n",
    "df['state_num'] = df['States'].map(state_mapping)"
   ]
  },
  {
   "cell_type": "code",
   "execution_count": null,
   "id": "b03f27d4",
   "metadata": {},
   "outputs": [],
   "source": [
    "# Load the shapefile of Australia\n",
    "australia = gpd.read_file('STE_2021_AUST_SHP_GDA2020/STE_2021_AUST_GDA2020.shp')\n",
    "\n",
    "# Define the CRS of the shapefile manually\n",
    "australia.crs = 'epsg:7844'\n",
    "\n",
    "# Create a GeoDataFrame from the DataFrame of cities\n",
    "gdf_cities = gpd.GeoDataFrame(df, geometry=gpd.points_from_xy(df.longs, df.lats))\n",
    "\n",
    "# Set the CRS of the GeoDataFrame to EPSG 7844\n",
    "# https://epsg.io/7844\n",
    "gdf_cities.crs = 'epsg:7844'\n",
    "\n",
    "# Reproject the GeoDataFrame of cities to match the CRS of the shapefile\n",
    "gdf_cities = gdf_cities.to_crs(australia.crs)\n",
    "\n",
    "# Perform a spatial join to link the cities to their corresponding polygons in the shapefile\n",
    "gdf_cities = gpd.sjoin(gdf_cities, australia, predicate='within')\n",
    "\n",
    "# Set up the plot\n",
    "sns.set_style(\"whitegrid\")\n",
    "fig, ax = plt.subplots(figsize=(8, 8))\n",
    "\n",
    "# # Define a custom dark color palette\n",
    "custom_palette = sns.color_palette(['darkblue', 'black', 'purple','darkred', 'darkgreen', 'darkorange', 'brown' , 'blue'], n_colors=len(df['state_num'].unique()))\n",
    "\n",
    "# Plot the cities colored by priority with adjustments\n",
    "sns.scatterplot(ax=ax, data=gdf_cities, x='longs', y='lats', hue='States', s=15, palette=custom_palette, edgecolor='black', alpha=0.8, legend='full', zorder=2)\n",
    "\n",
    "\n",
    "# Set x-axis limits\n",
    "ax.set_xlim(110, 160)\n",
    "\n",
    "# Add the shapefile of Australia as a background map\n",
    "australia.plot(ax=ax, color='lightgrey', edgecolor='white', zorder=1)\n",
    "\n",
    "# Set the plot title and axis labels\n",
    "plt.title('Catchments across Australia')\n",
    "plt.xlabel('Longitude')\n",
    "plt.ylabel('Latitude')\n",
    "\n",
    "# Show the plot\n",
    "plt.show()"
   ]
  }
 ],
 "metadata": {
  "kernelspec": {
   "display_name": "Python 3 (ipykernel)",
   "language": "python",
   "name": "python3"
  },
  "language_info": {
   "codemirror_mode": {
    "name": "ipython",
    "version": 3
   },
   "file_extension": ".py",
   "mimetype": "text/x-python",
   "name": "python",
   "nbconvert_exporter": "python",
   "pygments_lexer": "ipython3",
   "version": "3.9.13"
  }
 },
 "nbformat": 4,
 "nbformat_minor": 5
}
